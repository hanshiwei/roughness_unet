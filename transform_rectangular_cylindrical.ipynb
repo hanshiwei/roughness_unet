{
 "cells": [
  {
   "cell_type": "markdown",
   "id": "fc027fae",
   "metadata": {},
   "source": [
    "* transform the data stress from rectangular coordinate system to cylindrical coordinate system\n",
    "\n",
    "----env 'gmsh_env' is used."
   ]
  },
  {
   "cell_type": "markdown",
   "id": "c294037d",
   "metadata": {},
   "source": [
    "# Read into the stress"
   ]
  },
  {
   "cell_type": "markdown",
   "id": "1c54d1e2",
   "metadata": {},
   "source": [
    "import the libraries"
   ]
  },
  {
   "cell_type": "code",
   "execution_count": 1,
   "id": "e2f8d4af",
   "metadata": {},
   "outputs": [],
   "source": [
    "import numpy as np\n",
    "import matplotlib.pyplot as plt\n",
    "import os\n",
    "from scipy.spatial import KDTree\n",
    "import pandas as pd\n",
    "import sys"
   ]
  },
  {
   "cell_type": "markdown",
   "id": "34f53970",
   "metadata": {},
   "source": [
    "Read into the stress and coordinates in rectangular coordinate system"
   ]
  },
  {
   "cell_type": "code",
   "execution_count": 13,
   "id": "141771ba",
   "metadata": {},
   "outputs": [
    {
     "name": "stdout",
     "output_type": "stream",
     "text": [
      "Current csv file name is abaqus_cylinder_rough.csv\n"
     ]
    }
   ],
   "source": [
    "num_struct_thet = 600\n",
    "num_struct_zeta = 301\n",
    "\n",
    "zeta_low_contrl = -0.6 # (mm)\n",
    "zeta_upp_contrl = +0.6 # (mm)\n",
    "\n",
    "interva_struct = 0.004 # (mm)\n",
    "interva_theta = 2*np.pi/num_struct_thet\n",
    "\n",
    "structured_grid_xls_folder = 'C:\\\\Abaqus_Works\\\\roughness_simulation\\\\cylinder'\n",
    "\n",
    "rough_or_flat = \"rough\"\n",
    "\n",
    "\n",
    "data_csv_file = f\"abaqus_cylinder_{rough_or_flat}.csv\"\n",
    "data_xls_file = f\"output_stress_cylinder_{rough_or_flat}.xlsx\"\n",
    "node_xls_file = f\"nodes_cylinder_{rough_or_flat}.xlsx\"\n",
    "\n",
    "print(f\"Current csv file name is {data_csv_file}\")\n",
    "data_csv_path = os.path.join(structured_grid_xls_folder, data_csv_file)\n",
    "\n",
    "data_all_nodes_string = pd.read_csv(data_csv_path, header=None, skiprows=1)\n",
    "# print(data_all_nodes_string.shape)\n",
    "# Column-0 is the node label, Column-1:3 are coordinates , Column-4:9\n",
    "nodes_struct_data = data_all_nodes_string.to_numpy(dtype=float)\n",
    "# print(nodes_struct_data.shape)"
   ]
  },
  {
   "cell_type": "markdown",
   "id": "449e0d02",
   "metadata": {},
   "source": [
    "Transform the stress tensor"
   ]
  },
  {
   "cell_type": "code",
   "execution_count": 14,
   "id": "56bbf6f7",
   "metadata": {},
   "outputs": [
    {
     "name": "stdout",
     "output_type": "stream",
     "text": [
      "[[-1.16486562 -7.01317678 -1.3248698 ]\n",
      " [-7.01317678  0.12336309 -2.4344593 ]\n",
      " [-1.3248698  -2.4344593  -0.63917704]]\n"
     ]
    }
   ],
   "source": [
    "sum_nodes = nodes_struct_data.shape[0]\n",
    "\n",
    "# stress_cylind_systm = np.zeros((num_struct_thet, num_struct_zeta, 6))\n",
    "# nodes_cylind_surf = np.zeros((num_struct_thet, num_struct_zeta),dtype=int)\n",
    "\n",
    "stress_cylind_systm = np.zeros((num_struct_zeta, num_struct_thet, 6))\n",
    "nodes_cylind_surf = np.zeros((num_struct_zeta, num_struct_thet),dtype=int)\n",
    "\n",
    "sigma_rect = np.zeros((3, 3))\n",
    "Rx_thet = np.zeros((3, 3))\n",
    "\n",
    "# Z ~ 90deg\n",
    "Rz_1 = np.array([\n",
    "    [ 0.0, 1.0, 0.0],\n",
    "    [-1.0, 0.0, 0.0],\n",
    "    [ 0.0, 0.0, 1.0]])\n",
    "\n",
    "# Y ~ -90deg\n",
    "Ry_2 = np.array([\n",
    "    [ 0.0, 0.0, 1.0],\n",
    "    [ 0.0, 1.0, 0.0],\n",
    "    [-1.0, 0.0, 0.0]])\n",
    "\n",
    "# X ~ 90deg\n",
    "Rx_3 = np.array([\n",
    "    [ 1.0,  0.0, 0.0],\n",
    "    [ 0.0,  0.0, 1.0],\n",
    "    [ 0.0, -1.0, 0.0]])\n",
    "\n",
    "\n",
    "for idx_node in range(sum_nodes):\n",
    "    node_label = nodes_struct_data[idx_node, 0]\n",
    "    x = nodes_struct_data[idx_node, 1]\n",
    "    y = nodes_struct_data[idx_node, 2]\n",
    "    z = nodes_struct_data[idx_node, 3]\n",
    "\n",
    "    radius = np.sqrt(x**2 + y**2)\n",
    "    # if x > + radius:\n",
    "    #     x = +radius\n",
    "    # if x < - radius:\n",
    "    #     x = -radius\n",
    "    \n",
    "    if y >= 0.0:\n",
    "        thet = np.acos(x/radius)\n",
    "    else:\n",
    "        thet = np.pi*2 - np.acos(x/radius)\n",
    "    \n",
    "    # stress tensor in rectangular coordinate system\n",
    "    sigma_rect[0, 0] = nodes_struct_data[idx_node, 4] # S11\n",
    "    sigma_rect[1, 1] = nodes_struct_data[idx_node, 5] # S22\n",
    "    sigma_rect[2, 2] = nodes_struct_data[idx_node, 6] # S33\n",
    "    sigma_rect[0, 1] = nodes_struct_data[idx_node, 7] # S12\n",
    "    sigma_rect[0, 2] = nodes_struct_data[idx_node, 8] # S13\n",
    "    sigma_rect[1, 2] = nodes_struct_data[idx_node, 9] # S23\n",
    "    sigma_rect[1, 0] = sigma_rect[0, 1]               # S21\n",
    "    sigma_rect[2, 0] = sigma_rect[0, 2]               # S31\n",
    "    sigma_rect[2, 1] = sigma_rect[1, 2]               # S23\n",
    "\n",
    "    # rotating matrix of theta\n",
    "    Rx_thet[0, 0] = np.cos(thet)\n",
    "    Rx_thet[1, 1] = np.cos(thet)\n",
    "    Rx_thet[2, 2] = 1.0\n",
    "    Rx_thet[0, 1] = np.sin(thet)\n",
    "    Rx_thet[0, 2] = 0.0\n",
    "    Rx_thet[1, 2] = 0.0\n",
    "    Rx_thet[1, 0] = - Rx_thet[0, 1]\n",
    "    Rx_thet[2, 0] = - Rx_thet[0, 2]\n",
    "    Rx_thet[2, 1] = - Rx_thet[1, 2]\n",
    "\n",
    "    # transform the stress tensor\n",
    "    R_com = Rx_3 @ Ry_2 @ Rz_1 @ Rx_thet\n",
    "    sigma_cylin = R_com @ sigma_rect @ R_com.T\n",
    "\n",
    "    # indexes in the cylindrical surface\n",
    "    idx_thet = round(thet/interva_theta)\n",
    "    idx_zeta = round((z - zeta_low_contrl)/interva_struct)\n",
    "\n",
    "    # nodes_cylind_surf[idx_thet, idx_zeta] = node_label\n",
    "\n",
    "    # stress_cylind_systm[idx_thet, idx_zeta, 0] = sigma_cylin[0, 0]\n",
    "    # stress_cylind_systm[idx_thet, idx_zeta, 1] = sigma_cylin[1, 1]\n",
    "    # stress_cylind_systm[idx_thet, idx_zeta, 2] = sigma_cylin[2, 2]\n",
    "    # stress_cylind_systm[idx_thet, idx_zeta, 3] = sigma_cylin[0, 1]\n",
    "    # stress_cylind_systm[idx_thet, idx_zeta, 4] = sigma_cylin[0, 2]\n",
    "    # stress_cylind_systm[idx_thet, idx_zeta, 5] = sigma_cylin[1, 2]\n",
    "\n",
    "    nodes_cylind_surf[idx_zeta, idx_thet] = node_label\n",
    "\n",
    "    stress_cylind_systm[idx_zeta, idx_thet, 0] = sigma_cylin[0, 0]\n",
    "    stress_cylind_systm[idx_zeta, idx_thet, 1] = sigma_cylin[1, 1]\n",
    "    stress_cylind_systm[idx_zeta, idx_thet, 2] = sigma_cylin[2, 2]\n",
    "    stress_cylind_systm[idx_zeta, idx_thet, 3] = sigma_cylin[0, 1]\n",
    "    stress_cylind_systm[idx_zeta, idx_thet, 4] = sigma_cylin[0, 2]\n",
    "    stress_cylind_systm[idx_zeta, idx_thet, 5] = sigma_cylin[1, 2]\n",
    "\n",
    "    if node_label == 90098:\n",
    "        print(sigma_cylin)\n",
    "    \n",
    "steps_name = ['TENSILE_X']\n",
    "\n",
    "# output the nodes matrix\n",
    "file_struct_node_path = os.path.join(structured_grid_xls_folder, node_xls_file)\n",
    "with pd.ExcelWriter(file_struct_node_path, engine='openpyxl') as writer:\n",
    "    sheet_name = f\"node_matrix\"\n",
    "    df = pd.DataFrame(nodes_cylind_surf[:, :])\n",
    "    df.to_excel(writer, sheet_name=sheet_name, index=False, header=False)\n",
    "\n",
    "# write the strain at the structured grids using numpy\n",
    "file_struct_data_path = os.path.join(structured_grid_xls_folder, data_xls_file)\n",
    "\n",
    "# output the stress matrix\n",
    "ss_comp = ['11', '22', '33', '12', '13', '23']\n",
    "with pd.ExcelWriter(file_struct_data_path, engine='openpyxl') as writer:\n",
    "    for i in range(6):  \n",
    "        sheet_name = f\"{steps_name[i // 6]}-S{ss_comp[i % 6]}\"\n",
    "        df = pd.DataFrame(stress_cylind_systm[:, :, i])\n",
    "        df.to_excel(writer, sheet_name=sheet_name, index=False, header=False)"
   ]
  }
 ],
 "metadata": {
  "kernelspec": {
   "display_name": "Python 3",
   "language": "python",
   "name": "python3"
  },
  "language_info": {
   "codemirror_mode": {
    "name": "ipython",
    "version": 3
   },
   "file_extension": ".py",
   "mimetype": "text/x-python",
   "name": "python",
   "nbconvert_exporter": "python",
   "pygments_lexer": "ipython3",
   "version": "3.11.11"
  }
 },
 "nbformat": 4,
 "nbformat_minor": 5
}
